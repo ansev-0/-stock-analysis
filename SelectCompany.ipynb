{
 "cells": [
  {
   "cell_type": "code",
   "execution_count": 1,
   "metadata": {},
   "outputs": [],
   "source": [
    "import VolumeAnalizer\n",
    "import pandas as pd\n",
    "reader=VolumeAnalizer.initialize()\n",
    "\n"
   ]
  },
  {
   "cell_type": "code",
   "execution_count": 2,
   "metadata": {},
   "outputs": [
    {
     "name": "stdout",
     "output_type": "stream",
     "text": [
      "          TWTR      ATVI      ADBE       AMD      ALGN      ALXN      AMZN  \\\n",
      "TWTR  1.000000  0.268671  0.347037  0.404746  0.310700  0.219502  0.417988   \n",
      "ATVI  0.268671  1.000000  0.301371  0.212855  0.125412  0.171314  0.266612   \n",
      "ADBE  0.347037  0.301371  1.000000  0.339491  0.266551  0.166260  0.384349   \n",
      "AMD   0.404746  0.212855  0.339491  1.000000  0.290286  0.206598  0.363484   \n",
      "ALGN  0.310700  0.125412  0.266551  0.290286  1.000000  0.156427  0.279963   \n",
      "...        ...       ...       ...       ...       ...       ...       ...   \n",
      "WDC   0.351920  0.218114  0.207768  0.346249  0.220136  0.214909  0.284598   \n",
      "WDAY  0.142955  0.181655  0.402936  0.121786  0.127922  0.082060  0.187238   \n",
      "WYNN  0.347863  0.201471  0.212657  0.282907  0.266213  0.211037  0.346471   \n",
      "XEL  -0.081955 -0.003290  0.032305 -0.131972 -0.081251 -0.061495 -0.067249   \n",
      "XLNX  0.373030  0.238548  0.270139  0.435840  0.235177  0.274719  0.362383   \n",
      "\n",
      "          AMGN       AAL       ADI  ...       UAL      VRSN      VRSK  \\\n",
      "TWTR  0.164227  0.290733  0.302288  ...  0.278971  0.304251  0.159993   \n",
      "ATVI  0.159766  0.188566  0.179028  ...  0.155048  0.192825  0.181163   \n",
      "ADBE  0.200828  0.165436  0.209991  ...  0.194900  0.352834  0.253637   \n",
      "AMD   0.180670  0.246752  0.429834  ...  0.265896  0.288664  0.167860   \n",
      "ALGN  0.177178  0.197716  0.228623  ...  0.206934  0.188587  0.112972   \n",
      "...        ...       ...       ...  ...       ...       ...       ...   \n",
      "WDC   0.155821  0.334833  0.373397  ...  0.298811  0.209125  0.094390   \n",
      "WDAY  0.083076  0.096256  0.039811  ...  0.094553  0.135302  0.080865   \n",
      "WYNN  0.199580  0.425491  0.321392  ...  0.335641  0.213958  0.103941   \n",
      "XEL   0.017926 -0.184630 -0.097748  ... -0.076478 -0.035624  0.176254   \n",
      "XLNX  0.221327  0.361788  0.509323  ...  0.336678  0.280748  0.174563   \n",
      "\n",
      "          VRTX       WBA       WDC      WDAY      WYNN       XEL      XLNX  \n",
      "TWTR  0.186151  0.250663  0.351920  0.142955  0.347863 -0.081955  0.373030  \n",
      "ATVI  0.168518  0.127115  0.218114  0.181655  0.201471 -0.003290  0.238548  \n",
      "ADBE  0.241206  0.075932  0.207768  0.402936  0.212657  0.032305  0.270139  \n",
      "AMD   0.218461  0.211636  0.346249  0.121786  0.282907 -0.131972  0.435840  \n",
      "ALGN  0.142455  0.145930  0.220136  0.127922  0.266213 -0.081251  0.235177  \n",
      "...        ...       ...       ...       ...       ...       ...       ...  \n",
      "WDC   0.157659  0.256177  1.000000  0.146703  0.389420 -0.143757  0.421069  \n",
      "WDAY  0.136197 -0.041482  0.146703  1.000000  0.115888  0.008842  0.073079  \n",
      "WYNN  0.129125  0.279052  0.389420  0.115888  1.000000 -0.180927  0.391516  \n",
      "XEL  -0.022016 -0.110956 -0.143757  0.008842 -0.180927  1.000000 -0.134231  \n",
      "XLNX  0.187826  0.287730  0.421069  0.073079  0.391516 -0.134231  1.000000  \n",
      "\n",
      "[99 rows x 99 columns]\n",
      "       count           mean            std  min       25%      50%        75%  \\\n",
      "TWTR  4482.0   31703.692325   80169.355374  0.0  11842.00  20703.5   35739.00   \n",
      "ATVI  8774.0   13441.088329   28179.467532  0.0   4502.00   7385.5   13206.25   \n",
      "ADBE  8707.0    4464.749971    7973.858208  0.0   1704.00   2827.0    4828.50   \n",
      "AMD   8756.0  148669.241549  895438.327325  0.0  45738.25  82564.0  159279.00   \n",
      "ALGN  7373.0    1672.636512    4696.587197  0.0    474.00    921.0    1768.00   \n",
      "...      ...            ...            ...  ...       ...      ...        ...   \n",
      "WDC   8750.0   11605.536457   18107.785745  0.0   3666.25   6577.5   12611.00   \n",
      "WDAY  8589.0    5403.180580   17887.861756  0.0   1325.00   2660.0    5528.00   \n",
      "WYNN  8432.0    4203.766129   12034.609304  0.0    884.00   1879.0    4065.25   \n",
      "XEL   8762.0    5681.884159   12165.579068  0.0   1836.00   2980.0    5295.75   \n",
      "XLNX  8705.0    6499.103274   26773.294405  0.0   2028.00   3536.0    6397.00   \n",
      "\n",
      "             max  \n",
      "TWTR   4831979.0  \n",
      "ATVI   1298190.0  \n",
      "ADBE    244586.0  \n",
      "AMD   73896886.0  \n",
      "ALGN    177684.0  \n",
      "...          ...  \n",
      "WDC     420561.0  \n",
      "WDAY   1339288.0  \n",
      "WYNN    409446.0  \n",
      "XEL     582477.0  \n",
      "XLNX   1760892.0  \n",
      "\n",
      "[99 rows x 8 columns]\n"
     ]
    }
   ],
   "source": [
    "companies_default=['TWTR','ATVI', 'ADBE', 'AMD', 'ALGN', 'ALXN', 'AMZN', 'AMGN', 'AAL', 'ADI', 'AAPL', 'AMAT', 'ASML', 'ADSK', 'ADP',\n",
    " 'AVGO', 'BIDU', 'BIIB', 'BMRN', 'CDNS', 'CELG', 'CERN', 'CHKP', 'CHTR', 'CTRP', 'CTAS', 'CSCO', 'CTXS', 'CMCSA', 'COST', \n",
    " 'CSX', 'CTSH', 'DLTR', 'EA', 'EBAY', 'EXPE', 'FAST', 'FB', 'FISV', 'GILD', 'GOOG', 'GOOGL', 'HAS', 'HSIC', 'ILMN', 'INCY', \n",
    " 'INTC', 'INTU', 'ISRG', 'IDXX', 'JBHT', 'JD', 'KLAC', 'KHC', 'LRCX', 'LBTYA', 'LBTYK', 'LULU', 'MELI', 'MAR', 'MCHP', 'MDLZ',\n",
    "  'MNST', 'MSFT', 'MU', 'MXIM', 'MYL', 'NTAP', 'NFLX', 'NTES', 'NVDA', 'NXPI', 'ORLY', 'PAYX', 'PCAR', 'BKNG', 'PYPL', 'PEP',\n",
    "   'QCOM', 'REGN', 'ROST', 'SIRI', 'SWKS', 'SBUX', 'SNPS', 'TTWO', 'TSLA', 'TXN', 'TMUS', 'ULTA', 'UAL', 'VRSN', 'VRSK',\n",
    "    'VRTX', 'WBA', 'WDC', 'WDAY', 'WYNN', 'XEL', 'XLNX']\n",
    "companies1=['NVDA', 'AMD', 'TXN', 'AAPL', 'EA', 'ADSK','ADI','ALGN','CERN','CSCO']\n",
    "describe,volume_data,dict_data=reader.getData(companies=companies_default,volume_data=True,all_data=True)\n",
    "\n",
    "\n",
    "#Correlacion precios\n",
    "df_correlation_by_moments={moment:pd.concat([data[moment].rename(company) for company,data in dict_data.items()],axis=1).pct_change(1).corr() for moment in ['open','high','low','close']}\n",
    "print(df_correlation_by_moments['close'])\n",
    "print(describe)\n",
    "\n"
   ]
  },
  {
   "cell_type": "code",
   "execution_count": 2,
   "metadata": {},
   "outputs": [
    {
     "ename": "NameError",
     "evalue": "name 'describe' is not defined",
     "output_type": "error",
     "traceback": [
      "\u001b[0;31m---------------------------------------------------------------------------\u001b[0m",
      "\u001b[0;31mNameError\u001b[0m                                 Traceback (most recent call last)",
      "\u001b[0;32m<ipython-input-2-24bde9b66dfe>\u001b[0m in \u001b[0;36m<module>\u001b[0;34m\u001b[0m\n\u001b[1;32m      1\u001b[0m \u001b[0mmax_mean_volumne\u001b[0m\u001b[0;34m=\u001b[0m\u001b[0;36m10000\u001b[0m\u001b[0;34m\u001b[0m\u001b[0;34m\u001b[0m\u001b[0m\n\u001b[0;32m----> 2\u001b[0;31m \u001b[0mcondition_max_volume_mean\u001b[0m\u001b[0;34m=\u001b[0m\u001b[0mdescribe\u001b[0m\u001b[0;34m[\u001b[0m\u001b[0;34m'mean'\u001b[0m\u001b[0;34m]\u001b[0m\u001b[0;34m<\u001b[0m\u001b[0mmax_mean_volumne\u001b[0m\u001b[0;34m\u001b[0m\u001b[0;34m\u001b[0m\u001b[0m\n\u001b[0m",
      "\u001b[0;31mNameError\u001b[0m: name 'describe' is not defined"
     ]
    }
   ],
   "source": [
    "max_mean_volumne=10000\n",
    "condition_max_volume_mean=describe['mean']<max_mean_volumne\n"
   ]
  },
  {
   "cell_type": "code",
   "execution_count": 3,
   "metadata": {},
   "outputs": [
    {
     "ename": "NameError",
     "evalue": "name 'volume_data' is not defined",
     "output_type": "error",
     "traceback": [
      "\u001b[0;31m---------------------------------------------------------------------------\u001b[0m",
      "\u001b[0;31mNameError\u001b[0m                                 Traceback (most recent call last)",
      "\u001b[0;32m<ipython-input-3-278fd96b8240>\u001b[0m in \u001b[0;36m<module>\u001b[0;34m\u001b[0m\n\u001b[1;32m      1\u001b[0m \u001b[0;32mfrom\u001b[0m \u001b[0mdatetime\u001b[0m \u001b[0;32mimport\u001b[0m \u001b[0mdatetime\u001b[0m\u001b[0;34m\u001b[0m\u001b[0;34m\u001b[0m\u001b[0m\n\u001b[0;32m----> 2\u001b[0;31m \u001b[0mgt1\u001b[0m\u001b[0;34m=\u001b[0m\u001b[0mvolume_data\u001b[0m\u001b[0;34m.\u001b[0m\u001b[0mindex\u001b[0m\u001b[0;34m.\u001b[0m\u001b[0mto_series\u001b[0m\u001b[0;34m(\u001b[0m\u001b[0;34m)\u001b[0m\u001b[0;34m.\u001b[0m\u001b[0mdiff\u001b[0m\u001b[0;34m(\u001b[0m\u001b[0;34m)\u001b[0m\u001b[0;34m>\u001b[0m\u001b[0mpd\u001b[0m\u001b[0;34m.\u001b[0m\u001b[0mTimedelta\u001b[0m\u001b[0;34m(\u001b[0m\u001b[0mminutes\u001b[0m\u001b[0;34m=\u001b[0m\u001b[0;36m1\u001b[0m\u001b[0;34m)\u001b[0m\u001b[0;34m\u001b[0m\u001b[0;34m\u001b[0m\u001b[0m\n\u001b[0m\u001b[1;32m      3\u001b[0m \u001b[0mdata_diff\u001b[0m\u001b[0;34m=\u001b[0m\u001b[0mvolume_data\u001b[0m\u001b[0;34m.\u001b[0m\u001b[0mgroupby\u001b[0m\u001b[0;34m(\u001b[0m\u001b[0mgt1\u001b[0m\u001b[0;34m.\u001b[0m\u001b[0mcumsum\u001b[0m\u001b[0;34m(\u001b[0m\u001b[0;34m)\u001b[0m\u001b[0;34m)\u001b[0m\u001b[0;34m.\u001b[0m\u001b[0mdiff\u001b[0m\u001b[0;34m(\u001b[0m\u001b[0;34m)\u001b[0m\u001b[0;34m\u001b[0m\u001b[0;34m\u001b[0m\u001b[0m\n\u001b[1;32m      4\u001b[0m \u001b[0;34m\u001b[0m\u001b[0m\n\u001b[1;32m      5\u001b[0m \u001b[0mv_notna\u001b[0m\u001b[0;34m=\u001b[0m\u001b[0mvolume_data\u001b[0m\u001b[0;34m.\u001b[0m\u001b[0mnotna\u001b[0m\u001b[0;34m(\u001b[0m\u001b[0;34m)\u001b[0m\u001b[0;34m\u001b[0m\u001b[0;34m\u001b[0m\u001b[0m\n",
      "\u001b[0;31mNameError\u001b[0m: name 'volume_data' is not defined"
     ]
    }
   ],
   "source": [
    "from datetime import datetime\n",
    "gt1=volume_data.index.to_series().diff()>pd.Timedelta(minutes=1)\n",
    "data_diff=volume_data.groupby(gt1.cumsum()).diff()\n",
    "\n",
    "v_notna=volume_data.notna()\n",
    "valid_diff=v_notna&v_notna.shift(fill_value=False)\n",
    "\n",
    "data_diff_valid=data_diff.where(valid_diff)\n",
    "max_valid=data_diff_valid.abs().max()\n",
    "\n",
    "#diff maxima permitida\n",
    "max_diff_valid=1000000\n",
    "import matplotlib.pyplot as plt\n",
    "\n",
    "\n",
    "\n",
    "\n",
    "ax=max_valid.plot(kind='bar',figsize=(20,12),fontsize=14)\n",
    "#plt.xticks(rotation=-45)\n",
    "#grid on\n",
    "plt.grid()\n",
    "# set y=0\n",
    "ax.axhline(max_diff_valid, color='red', lw=3)\n",
    "ax.set_ylim(0,20000000)\n",
    "ax.set_title('Cambios máximos por minuto en el Volumen',fontsize=20)\n",
    "data_now=datetime.now().strftime(format='%Y-%m-%d')\n",
    "ax.get_figure().savefig(f'images/Cambios Volumen 11-11-2019 to {data_now}')"
   ]
  },
  {
   "cell_type": "code",
   "execution_count": 5,
   "metadata": {},
   "outputs": [],
   "source": [
    "condition_max_diff=max_valid<max_diff_valid\n",
    "condition_volume=condition_max_diff&condition_max_volume_mean\n"
   ]
  },
  {
   "cell_type": "code",
   "execution_count": 6,
   "metadata": {},
   "outputs": [],
   "source": [
    "#Getting condition by correlation\n"
   ]
  },
  {
   "cell_type": "code",
   "execution_count": 23,
   "metadata": {},
   "outputs": [
    {
     "data": {
      "text/html": [
       "<div>\n",
       "<style scoped>\n",
       "    .dataframe tbody tr th:only-of-type {\n",
       "        vertical-align: middle;\n",
       "    }\n",
       "\n",
       "    .dataframe tbody tr th {\n",
       "        vertical-align: top;\n",
       "    }\n",
       "\n",
       "    .dataframe thead th {\n",
       "        text-align: right;\n",
       "    }\n",
       "</style>\n",
       "<table border=\"1\" class=\"dataframe\">\n",
       "  <thead>\n",
       "    <tr style=\"text-align: right;\">\n",
       "      <th></th>\n",
       "      <th>AVGO</th>\n",
       "      <th>LRCX</th>\n",
       "      <th>MCHP</th>\n",
       "      <th>MXIM</th>\n",
       "      <th>SWKS</th>\n",
       "      <th>Sum_Correlation</th>\n",
       "    </tr>\n",
       "  </thead>\n",
       "  <tbody>\n",
       "    <tr>\n",
       "      <th>MCHP</th>\n",
       "      <td>0.545999</td>\n",
       "      <td>0.503000</td>\n",
       "      <td>1.000000</td>\n",
       "      <td>0.639925</td>\n",
       "      <td>0.547207</td>\n",
       "      <td>16.472174</td>\n",
       "    </tr>\n",
       "    <tr>\n",
       "      <th>MXIM</th>\n",
       "      <td>0.479053</td>\n",
       "      <td>0.469246</td>\n",
       "      <td>0.639925</td>\n",
       "      <td>1.000000</td>\n",
       "      <td>0.467073</td>\n",
       "      <td>15.793487</td>\n",
       "    </tr>\n",
       "    <tr>\n",
       "      <th>AVGO</th>\n",
       "      <td>1.000000</td>\n",
       "      <td>0.417425</td>\n",
       "      <td>0.545999</td>\n",
       "      <td>0.479053</td>\n",
       "      <td>0.488295</td>\n",
       "      <td>15.479305</td>\n",
       "    </tr>\n",
       "    <tr>\n",
       "      <th>SWKS</th>\n",
       "      <td>0.488295</td>\n",
       "      <td>0.396579</td>\n",
       "      <td>0.547207</td>\n",
       "      <td>0.467073</td>\n",
       "      <td>1.000000</td>\n",
       "      <td>14.348445</td>\n",
       "    </tr>\n",
       "    <tr>\n",
       "      <th>LRCX</th>\n",
       "      <td>0.417425</td>\n",
       "      <td>1.000000</td>\n",
       "      <td>0.503000</td>\n",
       "      <td>0.469246</td>\n",
       "      <td>0.396579</td>\n",
       "      <td>13.903657</td>\n",
       "    </tr>\n",
       "  </tbody>\n",
       "</table>\n",
       "</div>"
      ],
      "text/plain": [
       "          AVGO      LRCX      MCHP      MXIM      SWKS  Sum_Correlation\n",
       "MCHP  0.545999  0.503000  1.000000  0.639925  0.547207        16.472174\n",
       "MXIM  0.479053  0.469246  0.639925  1.000000  0.467073        15.793487\n",
       "AVGO  1.000000  0.417425  0.545999  0.479053  0.488295        15.479305\n",
       "SWKS  0.488295  0.396579  0.547207  0.467073  1.000000        14.348445\n",
       "LRCX  0.417425  1.000000  0.503000  0.469246  0.396579        13.903657"
      ]
     },
     "execution_count": 23,
     "metadata": {},
     "output_type": "execute_result"
    }
   ],
   "source": [
    "valid_corr=df_correlation_by_moments['close'].loc[condition_volume,condition_volume]\n",
    "valid_corr=valid_corr.assign(Sum_Correlation=valid_corr.sum(axis=1)).sort_values('Sum_Correlation',ascending = False)\n",
    "m=valid_corr.ge(0.45).sum()>4\n",
    "valid_corr.loc[m,m]"
   ]
  },
  {
   "cell_type": "code",
   "execution_count": 24,
   "metadata": {},
   "outputs": [],
   "source": [
    "#AVGO,MXIM,MCHP ,POTENCIAL SWKS"
   ]
  },
  {
   "cell_type": "code",
   "execution_count": 1,
   "metadata": {},
   "outputs": [
    {
     "ename": "NameError",
     "evalue": "name 'df_correlation_by_moments' is not defined",
     "output_type": "error",
     "traceback": [
      "\u001b[0;31m---------------------------------------------------------------------------\u001b[0m",
      "\u001b[0;31mNameError\u001b[0m                                 Traceback (most recent call last)",
      "\u001b[0;32m<ipython-input-1-3afb3df4d628>\u001b[0m in \u001b[0;36m<module>\u001b[0;34m\u001b[0m\n\u001b[0;32m----> 1\u001b[0;31m \u001b[0mdf_correlation_by_moments\u001b[0m\u001b[0;34m[\u001b[0m\u001b[0;34m'close'\u001b[0m\u001b[0;34m]\u001b[0m\u001b[0;34m\u001b[0m\u001b[0;34m\u001b[0m\u001b[0m\n\u001b[0m",
      "\u001b[0;31mNameError\u001b[0m: name 'df_correlation_by_moments' is not defined"
     ]
    }
   ],
   "source": [
    "df_correlation_by_moments['close']"
   ]
  },
  {
   "cell_type": "code",
   "execution_count": null,
   "metadata": {},
   "outputs": [],
   "source": []
  },
  {
   "cell_type": "code",
   "execution_count": null,
   "metadata": {},
   "outputs": [],
   "source": []
  }
 ],
 "metadata": {
  "kernelspec": {
   "display_name": "Python 3",
   "language": "python",
   "name": "python3"
  },
  "language_info": {
   "codemirror_mode": {
    "name": "ipython",
    "version": 3
   },
   "file_extension": ".py",
   "mimetype": "text/x-python",
   "name": "python",
   "nbconvert_exporter": "python",
   "pygments_lexer": "ipython3",
   "version": "3.7.3"
  }
 },
 "nbformat": 4,
 "nbformat_minor": 2
}
